{
 "cells": [
  {
   "cell_type": "code",
   "execution_count": 1,
   "metadata": {},
   "outputs": [],
   "source": [
    "import pandas as pd\n",
    "import numpy as np\n",
    "from sklearn import tree\n",
    "from sklearn.tree import DecisionTreeClassifier\n",
    "from sklearn import metrics\n",
    "from sklearn import model_selection\n",
    "from sklearn.model_selection import KFold, cross_val_score\n",
    "from sklearn import preprocessing\n",
    "import rpy2.robjects as robjects\n",
    "from rpy2.robjects import pandas2ri, r\n",
    "\n"
   ]
  },
  {
   "cell_type": "markdown",
   "metadata": {},
   "source": [
    "#### 8.3 Lab Decision Trees"
   ]
  },
  {
   "cell_type": "code",
   "execution_count": 2,
   "metadata": {},
   "outputs": [
    {
     "name": "stderr",
     "output_type": "stream",
     "text": [
      "/home/mrtgnr/anaconda3/lib/python3.7/site-packages/rpy2/robjects/pandas2ri.py:191: FutureWarning: from_items is deprecated. Please use DataFrame.from_dict(dict(items), ...) instead. DataFrame.from_dict(OrderedDict(items)) may be used to preserve the key order.\n",
      "  res = PandasDataFrame.from_items(items)\n"
     ]
    }
   ],
   "source": [
    "pandas2ri.activate()\n",
    "r.load('Carseats.rda')\n",
    "df = r['Carseats']"
   ]
  },
  {
   "cell_type": "code",
   "execution_count": 3,
   "metadata": {},
   "outputs": [],
   "source": [
    "df['High'] = df.Sales >= 8"
   ]
  },
  {
   "cell_type": "code",
   "execution_count": 4,
   "metadata": {},
   "outputs": [
    {
     "data": {
      "text/html": [
       "<div>\n",
       "<style scoped>\n",
       "    .dataframe tbody tr th:only-of-type {\n",
       "        vertical-align: middle;\n",
       "    }\n",
       "\n",
       "    .dataframe tbody tr th {\n",
       "        vertical-align: top;\n",
       "    }\n",
       "\n",
       "    .dataframe thead th {\n",
       "        text-align: right;\n",
       "    }\n",
       "</style>\n",
       "<table border=\"1\" class=\"dataframe\">\n",
       "  <thead>\n",
       "    <tr style=\"text-align: right;\">\n",
       "      <th></th>\n",
       "      <th>Sales</th>\n",
       "      <th>CompPrice</th>\n",
       "      <th>Income</th>\n",
       "      <th>Advertising</th>\n",
       "      <th>Population</th>\n",
       "      <th>Price</th>\n",
       "      <th>ShelveLoc</th>\n",
       "      <th>Age</th>\n",
       "      <th>Education</th>\n",
       "      <th>Urban</th>\n",
       "      <th>US</th>\n",
       "      <th>High</th>\n",
       "    </tr>\n",
       "  </thead>\n",
       "  <tbody>\n",
       "    <tr>\n",
       "      <th>0</th>\n",
       "      <td>9.50</td>\n",
       "      <td>138.0</td>\n",
       "      <td>73.0</td>\n",
       "      <td>11.0</td>\n",
       "      <td>276.0</td>\n",
       "      <td>120.0</td>\n",
       "      <td>Bad</td>\n",
       "      <td>42.0</td>\n",
       "      <td>17.0</td>\n",
       "      <td>Yes</td>\n",
       "      <td>Yes</td>\n",
       "      <td>True</td>\n",
       "    </tr>\n",
       "    <tr>\n",
       "      <th>1</th>\n",
       "      <td>11.22</td>\n",
       "      <td>111.0</td>\n",
       "      <td>48.0</td>\n",
       "      <td>16.0</td>\n",
       "      <td>260.0</td>\n",
       "      <td>83.0</td>\n",
       "      <td>Good</td>\n",
       "      <td>65.0</td>\n",
       "      <td>10.0</td>\n",
       "      <td>Yes</td>\n",
       "      <td>Yes</td>\n",
       "      <td>True</td>\n",
       "    </tr>\n",
       "    <tr>\n",
       "      <th>2</th>\n",
       "      <td>10.06</td>\n",
       "      <td>113.0</td>\n",
       "      <td>35.0</td>\n",
       "      <td>10.0</td>\n",
       "      <td>269.0</td>\n",
       "      <td>80.0</td>\n",
       "      <td>Medium</td>\n",
       "      <td>59.0</td>\n",
       "      <td>12.0</td>\n",
       "      <td>Yes</td>\n",
       "      <td>Yes</td>\n",
       "      <td>True</td>\n",
       "    </tr>\n",
       "    <tr>\n",
       "      <th>3</th>\n",
       "      <td>7.40</td>\n",
       "      <td>117.0</td>\n",
       "      <td>100.0</td>\n",
       "      <td>4.0</td>\n",
       "      <td>466.0</td>\n",
       "      <td>97.0</td>\n",
       "      <td>Medium</td>\n",
       "      <td>55.0</td>\n",
       "      <td>14.0</td>\n",
       "      <td>Yes</td>\n",
       "      <td>Yes</td>\n",
       "      <td>False</td>\n",
       "    </tr>\n",
       "    <tr>\n",
       "      <th>4</th>\n",
       "      <td>4.15</td>\n",
       "      <td>141.0</td>\n",
       "      <td>64.0</td>\n",
       "      <td>3.0</td>\n",
       "      <td>340.0</td>\n",
       "      <td>128.0</td>\n",
       "      <td>Bad</td>\n",
       "      <td>38.0</td>\n",
       "      <td>13.0</td>\n",
       "      <td>Yes</td>\n",
       "      <td>No</td>\n",
       "      <td>False</td>\n",
       "    </tr>\n",
       "  </tbody>\n",
       "</table>\n",
       "</div>"
      ],
      "text/plain": [
       "   Sales  CompPrice  Income  Advertising  Population  Price ShelveLoc   Age  \\\n",
       "0   9.50      138.0    73.0         11.0       276.0  120.0       Bad  42.0   \n",
       "1  11.22      111.0    48.0         16.0       260.0   83.0      Good  65.0   \n",
       "2  10.06      113.0    35.0         10.0       269.0   80.0    Medium  59.0   \n",
       "3   7.40      117.0   100.0          4.0       466.0   97.0    Medium  55.0   \n",
       "4   4.15      141.0    64.0          3.0       340.0  128.0       Bad  38.0   \n",
       "\n",
       "   Education Urban   US   High  \n",
       "0       17.0   Yes  Yes   True  \n",
       "1       10.0   Yes  Yes   True  \n",
       "2       12.0   Yes  Yes   True  \n",
       "3       14.0   Yes  Yes  False  \n",
       "4       13.0   Yes   No  False  "
      ]
     },
     "execution_count": 4,
     "metadata": {},
     "output_type": "execute_result"
    }
   ],
   "source": [
    "df.head()"
   ]
  },
  {
   "cell_type": "code",
   "execution_count": null,
   "metadata": {},
   "outputs": [],
   "source": []
  },
  {
   "cell_type": "code",
   "execution_count": 5,
   "metadata": {},
   "outputs": [
    {
     "data": {
      "text/plain": [
       "Index(['Sales', 'CompPrice', 'Income', 'Advertising', 'Population', 'Price',\n",
       "       'ShelveLoc', 'Age', 'Education', 'Urban', 'US', 'High'],\n",
       "      dtype='object')"
      ]
     },
     "execution_count": 5,
     "metadata": {},
     "output_type": "execute_result"
    }
   ],
   "source": [
    "df['High'],class_names = pd.factorize(df['High'])\n",
    "df['ShelveLoc'],_= pd.factorize(df['ShelveLoc'])\n",
    "df['Urban'], _ = pd.factorize(df['Urban'])\n",
    "df['US'], _ = pd.factorize(df['US'])\n",
    "df.columns"
   ]
  },
  {
   "cell_type": "code",
   "execution_count": 6,
   "metadata": {},
   "outputs": [
    {
     "data": {
      "text/html": [
       "<div>\n",
       "<style scoped>\n",
       "    .dataframe tbody tr th:only-of-type {\n",
       "        vertical-align: middle;\n",
       "    }\n",
       "\n",
       "    .dataframe tbody tr th {\n",
       "        vertical-align: top;\n",
       "    }\n",
       "\n",
       "    .dataframe thead th {\n",
       "        text-align: right;\n",
       "    }\n",
       "</style>\n",
       "<table border=\"1\" class=\"dataframe\">\n",
       "  <thead>\n",
       "    <tr style=\"text-align: right;\">\n",
       "      <th></th>\n",
       "      <th>Sales</th>\n",
       "      <th>CompPrice</th>\n",
       "      <th>Income</th>\n",
       "      <th>Advertising</th>\n",
       "      <th>Population</th>\n",
       "      <th>Price</th>\n",
       "      <th>ShelveLoc</th>\n",
       "      <th>Age</th>\n",
       "      <th>Education</th>\n",
       "      <th>Urban</th>\n",
       "      <th>US</th>\n",
       "      <th>High</th>\n",
       "    </tr>\n",
       "  </thead>\n",
       "  <tbody>\n",
       "    <tr>\n",
       "      <th>0</th>\n",
       "      <td>0.583897</td>\n",
       "      <td>0.622449</td>\n",
       "      <td>0.525253</td>\n",
       "      <td>0.379310</td>\n",
       "      <td>0.533066</td>\n",
       "      <td>0.574850</td>\n",
       "      <td>0.0</td>\n",
       "      <td>0.309091</td>\n",
       "      <td>0.875</td>\n",
       "      <td>0.0</td>\n",
       "      <td>0.0</td>\n",
       "      <td>0.0</td>\n",
       "    </tr>\n",
       "    <tr>\n",
       "      <th>1</th>\n",
       "      <td>0.689613</td>\n",
       "      <td>0.346939</td>\n",
       "      <td>0.272727</td>\n",
       "      <td>0.551724</td>\n",
       "      <td>0.501002</td>\n",
       "      <td>0.353293</td>\n",
       "      <td>0.5</td>\n",
       "      <td>0.727273</td>\n",
       "      <td>0.000</td>\n",
       "      <td>0.0</td>\n",
       "      <td>0.0</td>\n",
       "      <td>0.0</td>\n",
       "    </tr>\n",
       "    <tr>\n",
       "      <th>2</th>\n",
       "      <td>0.618316</td>\n",
       "      <td>0.367347</td>\n",
       "      <td>0.141414</td>\n",
       "      <td>0.344828</td>\n",
       "      <td>0.519038</td>\n",
       "      <td>0.335329</td>\n",
       "      <td>1.0</td>\n",
       "      <td>0.618182</td>\n",
       "      <td>0.250</td>\n",
       "      <td>0.0</td>\n",
       "      <td>0.0</td>\n",
       "      <td>0.0</td>\n",
       "    </tr>\n",
       "    <tr>\n",
       "      <th>3</th>\n",
       "      <td>0.454825</td>\n",
       "      <td>0.408163</td>\n",
       "      <td>0.797980</td>\n",
       "      <td>0.137931</td>\n",
       "      <td>0.913828</td>\n",
       "      <td>0.437126</td>\n",
       "      <td>1.0</td>\n",
       "      <td>0.545455</td>\n",
       "      <td>0.500</td>\n",
       "      <td>0.0</td>\n",
       "      <td>0.0</td>\n",
       "      <td>1.0</td>\n",
       "    </tr>\n",
       "    <tr>\n",
       "      <th>4</th>\n",
       "      <td>0.255071</td>\n",
       "      <td>0.653061</td>\n",
       "      <td>0.434343</td>\n",
       "      <td>0.103448</td>\n",
       "      <td>0.661323</td>\n",
       "      <td>0.622754</td>\n",
       "      <td>0.0</td>\n",
       "      <td>0.236364</td>\n",
       "      <td>0.375</td>\n",
       "      <td>0.0</td>\n",
       "      <td>1.0</td>\n",
       "      <td>1.0</td>\n",
       "    </tr>\n",
       "  </tbody>\n",
       "</table>\n",
       "</div>"
      ],
      "text/plain": [
       "      Sales  CompPrice    Income  Advertising  Population     Price  \\\n",
       "0  0.583897   0.622449  0.525253     0.379310    0.533066  0.574850   \n",
       "1  0.689613   0.346939  0.272727     0.551724    0.501002  0.353293   \n",
       "2  0.618316   0.367347  0.141414     0.344828    0.519038  0.335329   \n",
       "3  0.454825   0.408163  0.797980     0.137931    0.913828  0.437126   \n",
       "4  0.255071   0.653061  0.434343     0.103448    0.661323  0.622754   \n",
       "\n",
       "   ShelveLoc       Age  Education  Urban   US  High  \n",
       "0        0.0  0.309091      0.875    0.0  0.0   0.0  \n",
       "1        0.5  0.727273      0.000    0.0  0.0   0.0  \n",
       "2        1.0  0.618182      0.250    0.0  0.0   0.0  \n",
       "3        1.0  0.545455      0.500    0.0  0.0   1.0  \n",
       "4        0.0  0.236364      0.375    0.0  1.0   1.0  "
      ]
     },
     "execution_count": 6,
     "metadata": {},
     "output_type": "execute_result"
    }
   ],
   "source": [
    "min_max_scaler = preprocessing.MinMaxScaler()\n",
    "np_scaled = min_max_scaler.fit_transform(df)\n",
    "df_normalized = pd.DataFrame(np_scaled, columns= ['Sales', 'CompPrice',\n",
    "                                                  'Income', 'Advertising',\n",
    "                                                  'Population', 'Price',\n",
    "                                                  'ShelveLoc', 'Age', \n",
    "                                                  'Education', 'Urban',\n",
    "                                                  'US', 'High'])\n",
    "df_normalized.head()"
   ]
  },
  {
   "cell_type": "code",
   "execution_count": 7,
   "metadata": {},
   "outputs": [
    {
     "name": "stdout",
     "output_type": "stream",
     "text": [
      "Count misclassified with entropy:  27\n"
     ]
    }
   ],
   "source": [
    "## In classification problems we don't need to normalize data but in regression problems normalization is a good idea.\n",
    "\n",
    "X_normalized = df_normalized.loc[:, 'CompPrice':'US']\n",
    "y = df.iloc[:, -1]\n",
    "dtree_entropy = tree.DecisionTreeClassifier(criterion='entropy',  min_samples_split= 10, min_samples_leaf= 5)\n",
    "dtree_entropy.fit(X_normalized, y)\n",
    "y_entropy_normalized = dtree_entropy.predict(X_normalized)\n",
    "count_entropy_normalized_misclassified = (y != y_entropy_normalized).sum()\n",
    "print( 'Count misclassified with entropy: ', count_entropy_normalized_misclassified) \n"
   ]
  },
  {
   "cell_type": "code",
   "execution_count": 8,
   "metadata": {},
   "outputs": [
    {
     "name": "stdout",
     "output_type": "stream",
     "text": [
      "Count misclassified with entropy:  27 \n",
      "Count misclassified with gini:  40\n"
     ]
    }
   ],
   "source": [
    "# Exclude the Sales column and 'High' column and the rest will be our attributes\n",
    "# 'High' column will be the column that we would like to predict.\n",
    "\n",
    "X = df.loc[:, 'CompPrice':'US']\n",
    "y = df.iloc[:, -1]\n",
    "\n",
    "# Create a tree object and fit the data -- we will use both entropy and gini criteria and then compare them\n",
    "\n",
    "dtree_entropy = tree.DecisionTreeClassifier(criterion='entropy',  min_samples_split= 10, min_samples_leaf= 5)\n",
    "dtree_entropy.fit(X, y)\n",
    "\n",
    "dtree_gini = tree.DecisionTreeClassifier(criterion='gini',  min_samples_split= 10, min_samples_leaf= 5)\n",
    "dtree_gini.fit(X, y)\n",
    "\n",
    "y_entropy_train = dtree_entropy.predict(X)\n",
    "y_gini_train = dtree_gini.predict(X)\n",
    "count_entropy_misclassified = (y != y_entropy_train).sum()\n",
    "count_gini_misclassified = (y != y_gini_train ).sum()\n",
    "\n",
    "print( 'Count misclassified with entropy: ', count_entropy_misclassified, \n",
    "       '\\nCount misclassified with gini: ', count_gini_misclassified)\n",
    "\n"
   ]
  },
  {
   "cell_type": "code",
   "execution_count": 9,
   "metadata": {},
   "outputs": [
    {
     "name": "stdout",
     "output_type": "stream",
     "text": [
      "Misclassified samples with gini: 12\n",
      "Misclassified samples with entropy: 8\n",
      "Accuracy with gini: 0.88\n",
      "Accuracy with entropy: 0.92\n"
     ]
    }
   ],
   "source": [
    "# Split the data so that we can see the performance on test set.\n",
    "np.random.shuffle(X.values)\n",
    "X_train, X_test, y_train, y_test = model_selection.train_test_split(X, y, test_size=0.25, random_state=0)\n",
    "\n",
    " \n",
    "# use the model to make predictions with the test data\n",
    "y_pred_gini = dtree_gini.predict(X_test)\n",
    "y_pred_entropy = dtree_entropy.predict(X_test)\n",
    "\n",
    "# how did our model perform?\n",
    "count_test_gini_misclassified = (y_test != y_pred_gini).sum()\n",
    "count_test_entropy_misclassified = (y_test != y_pred_entropy).sum()\n",
    "print('Misclassified samples with gini: {}'.format(count_test_gini_misclassified))\n",
    "print('Misclassified samples with entropy: {}'.format(count_test_entropy_misclassified))\n",
    "\n",
    "accuracy_gini = metrics.accuracy_score(y_test, y_pred_gini)\n",
    "accuracy_entropy = metrics.accuracy_score(y_test, y_pred_entropy)\n",
    "print('Accuracy with gini: {:.2f}'.format(accuracy_gini))\n",
    "print('Accuracy with entropy: {:.2f}'.format(accuracy_entropy))\n",
    "\n",
    "\n"
   ]
  },
  {
   "cell_type": "code",
   "execution_count": null,
   "metadata": {},
   "outputs": [],
   "source": []
  },
  {
   "cell_type": "code",
   "execution_count": 10,
   "metadata": {},
   "outputs": [
    {
     "data": {
      "text/plain": [
       "array([0.82716049, 0.7375    , 0.7625    , 0.6       , 0.62025316])"
      ]
     },
     "execution_count": 10,
     "metadata": {},
     "output_type": "execute_result"
    }
   ],
   "source": [
    "cross_val_score(dtree_gini, X, y, cv =5)"
   ]
  },
  {
   "cell_type": "code",
   "execution_count": 11,
   "metadata": {},
   "outputs": [
    {
     "data": {
      "text/plain": [
       "array([0.83950617, 0.7375    , 0.775     , 0.6625    , 0.73417722])"
      ]
     },
     "execution_count": 11,
     "metadata": {},
     "output_type": "execute_result"
    }
   ],
   "source": [
    "cross_val_score(dtree_entropy, X, y, cv = 5)"
   ]
  },
  {
   "cell_type": "code",
   "execution_count": 12,
   "metadata": {
    "scrolled": true
   },
   "outputs": [
    {
     "data": {
      "text/plain": [
       "'Tree_entropy.pdf'"
      ]
     },
     "execution_count": 12,
     "metadata": {},
     "output_type": "execute_result"
    }
   ],
   "source": [
    "import graphviz\n",
    "feature_names = X.columns\n",
    "\n",
    "\n",
    "dot_data_entropy = tree.export_graphviz(dtree_entropy, out_file=None, filled=True, rounded=True,\n",
    "                                feature_names=feature_names  \n",
    "                                )\n",
    "\n",
    "dot_data_gini = tree.export_graphviz(dtree_gini, out_file=None, filled=True, rounded=True,\n",
    "                                feature_names=feature_names , class_names = ['high', 'low']\n",
    "                                )\n",
    "graph_gini = graphviz.Source(dot_data_gini)  \n",
    "graph_entropy = graphviz.Source(dot_data_entropy)  \n",
    "\n",
    "graph_gini.render('Tree_gini')\n",
    "graph_entropy.render('Tree_entropy')\n"
   ]
  }
 ],
 "metadata": {
  "kernelspec": {
   "display_name": "Python 3",
   "language": "python",
   "name": "python3"
  },
  "language_info": {
   "codemirror_mode": {
    "name": "ipython",
    "version": 3
   },
   "file_extension": ".py",
   "mimetype": "text/x-python",
   "name": "python",
   "nbconvert_exporter": "python",
   "pygments_lexer": "ipython3",
   "version": "3.7.1"
  }
 },
 "nbformat": 4,
 "nbformat_minor": 2
}
